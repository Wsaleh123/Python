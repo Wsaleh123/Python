{
 "cells": [
  {
   "cell_type": "code",
   "execution_count": 13,
   "metadata": {},
   "outputs": [
    {
     "name": "stderr",
     "output_type": "stream",
     "text": [
      "c:\\users\\wesam\\appdata\\local\\programs\\python\\python36-32\\lib\\site-packages\\bokeh\\util\\deprecation.py:34: BokehDeprecationWarning: Plot.logo was deprecated in Bokeh 0.12.0 and will be removed, use Plot.toolbar.logo instead.\n",
      "  warn(message)\n",
      "INFO:bokeh.core.state:Session output file 'Scatter_charts.html' already exists, will be overwritten.\n"
     ]
    }
   ],
   "source": [
    "from bokeh.charts import Scatter, output_file, show\n",
    "import pandas\n",
    "\n",
    "df=pandas.DataFrame(columns=[\"X\",\"Y\"])\n",
    "df[\"X\"] = [1,2,3,4,5]\n",
    "df[\"Y\"] = [5,6,4,5,3]\n",
    "\n",
    "p=Scatter(df, x=\"X\", y=\"Y\", title=\"Temperature Observations\", xlabel=\"Day of Observation\", ylabel=\"Temperature\", tools=\"pan, resize\", logo=None)\n",
    "\n",
    "output_file(\"Scatter_charts.html\", mode = 'relative')\n",
    "show(p)\n"
   ]
  },
  {
   "cell_type": "code",
   "execution_count": 14,
   "metadata": {},
   "outputs": [
    {
     "name": "stderr",
     "output_type": "stream",
     "text": [
      "c:\\users\\wesam\\appdata\\local\\programs\\python\\python36-32\\lib\\site-packages\\bokeh\\util\\deprecation.py:34: BokehDeprecationWarning: Setting Plot property 'title' using a string was deprecated in 0.12.0,\n",
      "            and will be removed. The title is now an object on Plot (which holds all of it's\n",
      "            styling properties). Please use Plot.title.text instead.\n",
      "\n",
      "            SERVER USERS: If you were using plot.title to have the server update the plot title\n",
      "            in a callback, you MUST update to plot.title.text as the title object cannot currently\n",
      "            be replaced after initialization.\n",
      "            \n",
      "  warn(message)\n",
      "INFO:bokeh.core.state:Session output file 'Scatter_Plotting.html' already exists, will be overwritten.\n"
     ]
    }
   ],
   "source": [
    "from bokeh.plotting import figure, output_file, show\n",
    "\n",
    "p=figure(plot_width=500, plot_height=400, tools ='', logo=None)\n",
    "\n",
    "p.line([1,2,3,4,5],[5,6,4,5,3], line_width=2, color='red', alpha=0.5)\n",
    "p.circle([1,2,3,4,5],[5,6,4,5,3], line_width=2, color='red', alpha=0.5)\n",
    "\n",
    "p.title = \"Temperature Observation\"\n",
    "output_file(\"Scatter_Plotting.html\", mode = 'relative')\n",
    "show(p)"
   ]
  },
  {
   "cell_type": "code",
   "execution_count": null,
   "metadata": {
    "collapsed": true
   },
   "outputs": [],
   "source": [
    "help(figure)"
   ]
  },
  {
   "cell_type": "code",
   "execution_count": 19,
   "metadata": {},
   "outputs": [
    {
     "name": "stderr",
     "output_type": "stream",
     "text": [
      "INFO:bokeh.core.state:Session output file 'Timeseries.html' already exists, will be overwritten.\n"
     ]
    }
   ],
   "source": [
    "from bokeh.plotting import figure, output_file, show\n",
    "import pandas\n",
    "\n",
    "df=pandas.read_csv(\"http://www.google.com/finance/historical?q=NASDAQ:ADBE&startdate=Jan+01%2C+2009&enddate=Aug+2%2C+2012&output=csv\", parse_dates=[\"Date\"])\n",
    "\n",
    "p=figure(width=500, height=250, x_axis_type=\"datetime\", responsive=True)\n",
    "\n",
    "p.line(df[\"Date\"], df[\"Close\"], color =\"Orange\", alpha=.5)\n",
    "\n",
    "output_file(\"Timeseries.html\")\n",
    "show(p)\n"
   ]
  },
  {
   "cell_type": "code",
   "execution_count": null,
   "metadata": {
    "collapsed": true
   },
   "outputs": [],
   "source": []
  }
 ],
 "metadata": {
  "kernelspec": {
   "display_name": "Python 3",
   "language": "python",
   "name": "python3"
  },
  "language_info": {
   "codemirror_mode": {
    "name": "ipython",
    "version": 3
   },
   "file_extension": ".py",
   "mimetype": "text/x-python",
   "name": "python",
   "nbconvert_exporter": "python",
   "pygments_lexer": "ipython3",
   "version": "3.6.2"
  }
 },
 "nbformat": 4,
 "nbformat_minor": 2
}
